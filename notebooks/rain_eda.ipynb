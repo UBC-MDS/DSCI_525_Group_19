{
 "cells": [
  {
   "cell_type": "code",
   "execution_count": 1,
   "metadata": {},
   "outputs": [],
   "source": [
    "import re\n",
    "import os\n",
    "import glob\n",
    "import zipfile\n",
    "import requests\n",
    "from urllib.request import urlretrieve\n",
    "import json\n",
    "import pandas as pd"
   ]
  },
  {
   "cell_type": "code",
   "execution_count": 2,
   "metadata": {},
   "outputs": [
    {
     "name": "stdout",
     "output_type": "stream",
     "text": [
      "/Users/jonah/Documents/MDS/block_6/525-cloud-comp/group_19/DSCI_525_Group_19\n"
     ]
    }
   ],
   "source": [
    "## Change it to the location that you want to download your files to. \n",
    "%cd /Users/jonah/Documents/MDS/block_6/525-cloud-comp/group_19/DSCI_525_Group_19/"
   ]
  },
  {
   "cell_type": "code",
   "execution_count": 3,
   "metadata": {},
   "outputs": [],
   "source": [
    "# Necessary metadata\n",
    "article_id = 14096681  # this is the unique identifier of the article on figshare\n",
    "url = f\"https://api.figshare.com/v2/articles/{article_id}\"\n",
    "headers = {\"Content-Type\": \"application/json\"}\n",
    "output_directory = \"rainfall/\""
   ]
  },
  {
   "cell_type": "code",
   "execution_count": 7,
   "metadata": {},
   "outputs": [],
   "source": [
    "response = requests.request(\"GET\", url, headers=headers)\n",
    "data = json.loads(response.text)  \n",
    "files = data[\"files\"]             "
   ]
  },
  {
   "cell_type": "code",
   "execution_count": 9,
   "metadata": {},
   "outputs": [
    {
     "name": "stdout",
     "output_type": "stream",
     "text": [
      "CPU times: user 2.89 s, sys: 9.08 s, total: 12 s\n",
      "Wall time: 4min 22s\n"
     ]
    }
   ],
   "source": [
    "%%time\n",
    "files_to_dl = [\"data.zip\"] \n",
    "for file in files:\n",
    "    if file[\"name\"] in files_to_dl:\n",
    "        os.makedirs(output_directory, exist_ok=True)\n",
    "        urlretrieve(file[\"download_url\"], output_directory + file[\"name\"])"
   ]
  },
  {
   "cell_type": "code",
   "execution_count": 10,
   "metadata": {},
   "outputs": [
    {
     "name": "stdout",
     "output_type": "stream",
     "text": [
      "CPU times: user 7.77 s, sys: 1.27 s, total: 9.04 s\n",
      "Wall time: 9.4 s\n"
     ]
    }
   ],
   "source": [
    "%%time\n",
    "with zipfile.ZipFile(os.path.join(output_directory, \"data.zip\"), 'r') as f:\n",
    "    f.extractall(output_directory)"
   ]
  },
  {
   "cell_type": "code",
   "execution_count": 11,
   "metadata": {},
   "outputs": [
    {
     "name": "stdout",
     "output_type": "stream",
     "text": [
      "total 12048816\n",
      "-rw-r--r--   1 jonah  staff  814041183 Mar 29 14:04 data.zip\n",
      "-rw-r--r--   1 jonah  staff   95376895 Mar 29 14:12 MPI-ESM-1-2-HAM_daily_rainfall_NSW.csv\n",
      "-rw-r--r--   1 jonah  staff   94960113 Mar 29 14:12 AWI-ESM-1-1-LR_daily_rainfall_NSW.csv\n",
      "-rw-r--r--   1 jonah  staff   82474546 Mar 29 14:12 NorESM2-LM_daily_rainfall_NSW.csv\n",
      "-rw-r--r--   1 jonah  staff  127613760 Mar 29 14:12 ACCESS-CM2_daily_rainfall_NSW.csv\n",
      "-rw-r--r--   1 jonah  staff  232118894 Mar 29 14:12 FGOALS-f3-L_daily_rainfall_NSW.csv\n",
      "-rw-r--r--   1 jonah  staff  330360682 Mar 29 14:12 CMCC-CM2-HR4_daily_rainfall_NSW.csv\n",
      "-rw-r--r--   1 jonah  staff  254009247 Mar 29 14:12 MRI-ESM2-0_daily_rainfall_NSW.csv\n",
      "-rw-r--r--   1 jonah  staff  235661418 Mar 29 14:12 GFDL-CM4_daily_rainfall_NSW.csv\n",
      "-rw-r--r--   1 jonah  staff  294260911 Mar 29 14:12 BCC-CSM2-MR_daily_rainfall_NSW.csv\n",
      "-rw-r--r--   1 jonah  staff  295768615 Mar 29 14:12 EC-Earth3-Veg-LR_daily_rainfall_NSW.csv\n",
      "-rw-r--r--   1 jonah  staff  328852379 Mar 29 14:12 CMCC-ESM2_daily_rainfall_NSW.csv\n",
      "-rw-r--r--   1 jonah  staff   67784105 Mar 29 14:12 NESM3_daily_rainfall_NSW.csv\n",
      "-rw-r--r--   1 jonah  staff   95640682 Mar 29 14:12 MPI-ESM1-2-LR_daily_rainfall_NSW.csv\n",
      "-rw-r--r--   1 jonah  staff  114707410 Mar 29 14:12 ACCESS-ESM1-5_daily_rainfall_NSW.csv\n",
      "-rw-r--r--   1 jonah  staff  116179272 Mar 29 14:12 FGOALS-g3_daily_rainfall_NSW.csv\n",
      "-rw-r--r--   1 jonah  staff  102517965 Mar 29 14:12 INM-CM4-8_daily_rainfall_NSW.csv\n",
      "-rw-r--r--   1 jonah  staff  515458033 Mar 29 14:12 MPI-ESM1-2-HR_daily_rainfall_NSW.csv\n",
      "-rw-r--r--   1 jonah  staff  332813281 Mar 29 14:12 TaiESM1_daily_rainfall_NSW.csv\n",
      "-rw-r--r--   1 jonah  staff  337555851 Mar 29 14:12 NorESM2-MM_daily_rainfall_NSW.csv\n",
      "-rw-r--r--   1 jonah  staff  328787320 Mar 29 14:12 CMCC-CM2-SR5_daily_rainfall_NSW.csv\n",
      "-rw-r--r--   1 jonah  staff     952202 Mar 29 14:12 observed_daily_rainfall_SYD.csv\n",
      "-rw-r--r--   1 jonah  staff   93829697 Mar 29 14:12 KIOST-ESM_daily_rainfall_NSW.csv\n",
      "-rw-r--r--   1 jonah  staff  102692289 Mar 29 14:12 INM-CM5-0_daily_rainfall_NSW.csv\n",
      "-rw-r--r--   1 jonah  staff  206822938 Mar 29 14:12 MIROC6_daily_rainfall_NSW.csv\n",
      "-rw-r--r--   1 jonah  staff   55224437 Mar 29 14:12 BCC-ESM1_daily_rainfall_NSW.csv\n",
      "-rw-r--r--   1 jonah  staff  124586961 Mar 29 14:12 GFDL-ESM4_daily_rainfall_NSW.csv\n",
      "-rw-r--r--   1 jonah  staff   46286371 Mar 29 14:12 CanESM5_daily_rainfall_NSW.csv\n",
      "-rw-r--r--   1 jonah  staff  333489879 Mar 29 14:12 SAM0-UNICON_daily_rainfall_NSW.csv\n",
      "drwxr-xr-x  30 jonah  staff        960 Mar 29 14:12 \u001b[1m\u001b[34m__MACOSX\u001b[m\u001b[m/\n"
     ]
    }
   ],
   "source": [
    "%ls -ltr rainfall/"
   ]
  },
  {
   "cell_type": "code",
   "execution_count": 12,
   "metadata": {},
   "outputs": [
    {
     "name": "stdout",
     "output_type": "stream",
     "text": [
      "CPU times: user 3min 18s, sys: 10.4 s, total: 3min 28s\n",
      "Wall time: 3min 30s\n"
     ]
    }
   ],
   "source": [
    "%%time\n",
    "files = glob.glob('rainfall/*.csv')\n",
    "files.remove(\"rainfall/observed_daily_rainfall_SYD.csv\") # remove this csv for this step\n",
    "df = pd.concat((pd.read_csv(file, index_col=0)\n",
    "                .assign(model=re.findall(\"/([^_]*)\", file)[0])\n",
    "                for file in files)\n",
    "              )\n",
    "df.to_csv(\"rainfall/combined_data.csv\")"
   ]
  },
  {
   "cell_type": "code",
   "execution_count": 13,
   "metadata": {},
   "outputs": [
    {
     "name": "stdout",
     "output_type": "stream",
     "text": [
      "<class 'pandas.core.frame.DataFrame'>\n",
      "Index: 62467843 entries, 1889-01-01 12:00:00 to 2014-12-31 12:00:00\n",
      "Data columns (total 6 columns):\n",
      " #   Column         Dtype  \n",
      "---  ------         -----  \n",
      " 0   lat_min        float32\n",
      " 1   lat_max        float32\n",
      " 2   lon_min        float32\n",
      " 3   lon_max        float32\n",
      " 4   rain (mm/day)  float64\n",
      " 5   model          object \n",
      "dtypes: float32(4), float64(1), object(1)\n",
      "memory usage: 2.3+ GB\n",
      "CPU times: user 30.2 s, sys: 3.8 s, total: 34 s\n",
      "Wall time: 35.5 s\n"
     ]
    }
   ],
   "source": [
    "%%time\n",
    "# set lat/lon columns to float 32 and set model as a string\n",
    "total_rain = pd.read_csv(\"rainfall/combined_data.csv\", index_col=0, \n",
    "                         dtype={'lat_min': 'float32', \n",
    "                                'lat_max': 'float32',\n",
    "                                'lon_min': 'float32',\n",
    "                                'lon_max': 'float32',\n",
    "                                 'model' : \"str\"\n",
    "                                })\n",
    "total_rain.info()"
   ]
  },
  {
   "cell_type": "code",
   "execution_count": 14,
   "metadata": {},
   "outputs": [
    {
     "name": "stdout",
     "output_type": "stream",
     "text": [
      "<class 'pandas.core.frame.DataFrame'>\n",
      "Index: 62467843 entries, 1889-01-01 12:00:00 to 2014-12-31 12:00:00\n",
      "Data columns (total 2 columns):\n",
      " #   Column         Dtype  \n",
      "---  ------         -----  \n",
      " 0   rain (mm/day)  float64\n",
      " 1   model          object \n",
      "dtypes: float64(1), object(1)\n",
      "memory usage: 1.4+ GB\n",
      "CPU times: user 478 ms, sys: 227 ms, total: 706 ms\n",
      "Wall time: 710 ms\n"
     ]
    }
   ],
   "source": [
    "%%time\n",
    "# drop lat/lon cols\n",
    "total_rain = total_rain.drop(columns=['lat_min','lat_max','lon_min','lon_max'])\n",
    "total_rain.info()"
   ]
  },
  {
   "cell_type": "code",
   "execution_count": 15,
   "metadata": {},
   "outputs": [
    {
     "name": "stdout",
     "output_type": "stream",
     "text": [
      "CPU times: user 81 µs, sys: 52 µs, total: 133 µs\n",
      "Wall time: 120 µs\n"
     ]
    },
    {
     "data": {
      "text/html": [
       "<div>\n",
       "<style scoped>\n",
       "    .dataframe tbody tr th:only-of-type {\n",
       "        vertical-align: middle;\n",
       "    }\n",
       "\n",
       "    .dataframe tbody tr th {\n",
       "        vertical-align: top;\n",
       "    }\n",
       "\n",
       "    .dataframe thead th {\n",
       "        text-align: right;\n",
       "    }\n",
       "</style>\n",
       "<table border=\"1\" class=\"dataframe\">\n",
       "  <thead>\n",
       "    <tr style=\"text-align: right;\">\n",
       "      <th></th>\n",
       "      <th>rain (mm/day)</th>\n",
       "      <th>model</th>\n",
       "    </tr>\n",
       "    <tr>\n",
       "      <th>time</th>\n",
       "      <th></th>\n",
       "      <th></th>\n",
       "    </tr>\n",
       "  </thead>\n",
       "  <tbody>\n",
       "    <tr>\n",
       "      <th>1889-01-01 12:00:00</th>\n",
       "      <td>4.244226e-13</td>\n",
       "      <td>MPI-ESM-1-2-HAM</td>\n",
       "    </tr>\n",
       "    <tr>\n",
       "      <th>1889-01-02 12:00:00</th>\n",
       "      <td>4.217326e-13</td>\n",
       "      <td>MPI-ESM-1-2-HAM</td>\n",
       "    </tr>\n",
       "    <tr>\n",
       "      <th>1889-01-03 12:00:00</th>\n",
       "      <td>4.498125e-13</td>\n",
       "      <td>MPI-ESM-1-2-HAM</td>\n",
       "    </tr>\n",
       "    <tr>\n",
       "      <th>1889-01-04 12:00:00</th>\n",
       "      <td>4.251282e-13</td>\n",
       "      <td>MPI-ESM-1-2-HAM</td>\n",
       "    </tr>\n",
       "    <tr>\n",
       "      <th>1889-01-05 12:00:00</th>\n",
       "      <td>4.270161e-13</td>\n",
       "      <td>MPI-ESM-1-2-HAM</td>\n",
       "    </tr>\n",
       "  </tbody>\n",
       "</table>\n",
       "</div>"
      ],
      "text/plain": [
       "                     rain (mm/day)            model\n",
       "time                                               \n",
       "1889-01-01 12:00:00   4.244226e-13  MPI-ESM-1-2-HAM\n",
       "1889-01-02 12:00:00   4.217326e-13  MPI-ESM-1-2-HAM\n",
       "1889-01-03 12:00:00   4.498125e-13  MPI-ESM-1-2-HAM\n",
       "1889-01-04 12:00:00   4.251282e-13  MPI-ESM-1-2-HAM\n",
       "1889-01-05 12:00:00   4.270161e-13  MPI-ESM-1-2-HAM"
      ]
     },
     "execution_count": 15,
     "metadata": {},
     "output_type": "execute_result"
    }
   ],
   "source": [
    "%%time\n",
    "total_rain.head()"
   ]
  },
  {
   "cell_type": "code",
   "execution_count": 16,
   "metadata": {},
   "outputs": [
    {
     "name": "stdout",
     "output_type": "stream",
     "text": [
      "CPU times: user 4.92 s, sys: 460 ms, total: 5.39 s\n",
      "Wall time: 5.41 s\n"
     ]
    },
    {
     "data": {
      "text/html": [
       "<div>\n",
       "<style scoped>\n",
       "    .dataframe tbody tr th:only-of-type {\n",
       "        vertical-align: middle;\n",
       "    }\n",
       "\n",
       "    .dataframe tbody tr th {\n",
       "        vertical-align: top;\n",
       "    }\n",
       "\n",
       "    .dataframe thead th {\n",
       "        text-align: right;\n",
       "    }\n",
       "</style>\n",
       "<table border=\"1\" class=\"dataframe\">\n",
       "  <thead>\n",
       "    <tr style=\"text-align: right;\">\n",
       "      <th></th>\n",
       "      <th>rain (mm/day)</th>\n",
       "      <th>model</th>\n",
       "    </tr>\n",
       "  </thead>\n",
       "  <tbody>\n",
       "    <tr>\n",
       "      <th>count</th>\n",
       "      <td>5.924854e+07</td>\n",
       "      <td>62467843</td>\n",
       "    </tr>\n",
       "    <tr>\n",
       "      <th>unique</th>\n",
       "      <td>NaN</td>\n",
       "      <td>27</td>\n",
       "    </tr>\n",
       "    <tr>\n",
       "      <th>top</th>\n",
       "      <td>NaN</td>\n",
       "      <td>MPI-ESM1-2-HR</td>\n",
       "    </tr>\n",
       "    <tr>\n",
       "      <th>freq</th>\n",
       "      <td>NaN</td>\n",
       "      <td>5154240</td>\n",
       "    </tr>\n",
       "    <tr>\n",
       "      <th>mean</th>\n",
       "      <td>1.901170e+00</td>\n",
       "      <td>NaN</td>\n",
       "    </tr>\n",
       "    <tr>\n",
       "      <th>std</th>\n",
       "      <td>5.585735e+00</td>\n",
       "      <td>NaN</td>\n",
       "    </tr>\n",
       "    <tr>\n",
       "      <th>min</th>\n",
       "      <td>-3.807373e-12</td>\n",
       "      <td>NaN</td>\n",
       "    </tr>\n",
       "    <tr>\n",
       "      <th>25%</th>\n",
       "      <td>3.838413e-06</td>\n",
       "      <td>NaN</td>\n",
       "    </tr>\n",
       "    <tr>\n",
       "      <th>50%</th>\n",
       "      <td>6.154947e-02</td>\n",
       "      <td>NaN</td>\n",
       "    </tr>\n",
       "    <tr>\n",
       "      <th>75%</th>\n",
       "      <td>1.020918e+00</td>\n",
       "      <td>NaN</td>\n",
       "    </tr>\n",
       "    <tr>\n",
       "      <th>max</th>\n",
       "      <td>4.329395e+02</td>\n",
       "      <td>NaN</td>\n",
       "    </tr>\n",
       "  </tbody>\n",
       "</table>\n",
       "</div>"
      ],
      "text/plain": [
       "        rain (mm/day)          model\n",
       "count    5.924854e+07       62467843\n",
       "unique            NaN             27\n",
       "top               NaN  MPI-ESM1-2-HR\n",
       "freq              NaN        5154240\n",
       "mean     1.901170e+00            NaN\n",
       "std      5.585735e+00            NaN\n",
       "min     -3.807373e-12            NaN\n",
       "25%      3.838413e-06            NaN\n",
       "50%      6.154947e-02            NaN\n",
       "75%      1.020918e+00            NaN\n",
       "max      4.329395e+02            NaN"
      ]
     },
     "execution_count": 16,
     "metadata": {},
     "output_type": "execute_result"
    }
   ],
   "source": [
    "%%time\n",
    "total_rain.describe(include=\"all\")"
   ]
  },
  {
   "cell_type": "code",
   "execution_count": 17,
   "metadata": {},
   "outputs": [
    {
     "name": "stdout",
     "output_type": "stream",
     "text": [
      "CPU times: user 1.93 s, sys: 21.2 ms, total: 1.95 s\n",
      "Wall time: 1.95 s\n"
     ]
    },
    {
     "data": {
      "text/plain": [
       "MPI-ESM1-2-HR       5154240\n",
       "CMCC-CM2-HR4        3541230\n",
       "CMCC-ESM2           3541230\n",
       "CMCC-CM2-SR5        3541230\n",
       "NorESM2-MM          3541230\n",
       "TaiESM1             3541230\n",
       "SAM0-UNICON         3541153\n",
       "GFDL-ESM4           3219300\n",
       "FGOALS-f3-L         3219300\n",
       "GFDL-CM4            3219300\n",
       "MRI-ESM2-0          3037320\n",
       "EC-Earth3-Veg-LR    3037320\n",
       "BCC-CSM2-MR         3035340\n",
       "MIROC6              2070900\n",
       "ACCESS-CM2          1932840\n",
       "ACCESS-ESM1-5       1610700\n",
       "INM-CM4-8           1609650\n",
       "INM-CM5-0           1609650\n",
       "FGOALS-g3           1287720\n",
       "KIOST-ESM           1287720\n",
       "AWI-ESM-1-1-LR       966420\n",
       "MPI-ESM1-2-LR        966420\n",
       "NESM3                966420\n",
       "MPI-ESM-1-2-HAM      966420\n",
       "NorESM2-LM           919800\n",
       "BCC-ESM1             551880\n",
       "CanESM5              551880\n",
       "Name: model, dtype: int64"
      ]
     },
     "execution_count": 17,
     "metadata": {},
     "output_type": "execute_result"
    }
   ],
   "source": [
    "%%time\n",
    "total_rain[\"model\"].value_counts()"
   ]
  },
  {
   "cell_type": "code",
   "execution_count": null,
   "metadata": {},
   "outputs": [],
   "source": []
  }
 ],
 "metadata": {
  "kernelspec": {
   "display_name": "525_2023",
   "language": "python",
   "name": "python3"
  },
  "language_info": {
   "codemirror_mode": {
    "name": "ipython",
    "version": 3
   },
   "file_extension": ".py",
   "mimetype": "text/x-python",
   "name": "python",
   "nbconvert_exporter": "python",
   "pygments_lexer": "ipython3",
   "version": "3.10.10"
  },
  "orig_nbformat": 4
 },
 "nbformat": 4,
 "nbformat_minor": 2
}
